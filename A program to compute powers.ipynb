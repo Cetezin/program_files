{
 "cells": [
  {
   "cell_type": "code",
   "execution_count": 18,
   "id": "92b1b365",
   "metadata": {},
   "outputs": [
    {
     "name": "stdout",
     "output_type": "stream",
     "text": [
      "Enter a power: 4\n",
      "Enter an initial range: 1023\n",
      "Enter an final range: 4265\n",
      "1296 6\n",
      "2401 7\n",
      "4096 8\n"
     ]
    }
   ],
   "source": [
    "# write a program to list the number of powers btw two given numbers\n",
    "\n",
    "num = int(input(\"Enter a power: \"))\n",
    "range1 = int(input(\"Enter an initial range: \"))\n",
    "range2 = int(input(\"Enter an final range: \"))\n",
    "\n",
    "for i in range(range1, range2):\n",
    "    for j in range(1, range2):\n",
    "        div = i\n",
    "        for k in range(num - 1):\n",
    "            div = div/j\n",
    "        if div == j:\n",
    "            print(i, j)"
   ]
  }
 ],
 "metadata": {
  "kernelspec": {
   "display_name": "Python 3 (ipykernel)",
   "language": "python",
   "name": "python3"
  },
  "language_info": {
   "codemirror_mode": {
    "name": "ipython",
    "version": 3
   },
   "file_extension": ".py",
   "mimetype": "text/x-python",
   "name": "python",
   "nbconvert_exporter": "python",
   "pygments_lexer": "ipython3",
   "version": "3.9.13"
  }
 },
 "nbformat": 4,
 "nbformat_minor": 5
}
